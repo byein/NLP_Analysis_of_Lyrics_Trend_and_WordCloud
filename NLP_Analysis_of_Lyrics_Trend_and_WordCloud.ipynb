{
  "nbformat": 4,
  "nbformat_minor": 0,
  "metadata": {
    "colab": {
      "name": "NLP_Analysis_of_Lyrics_Trend_and_WordCloud.ipynb",
      "provenance": [],
      "authorship_tag": "ABX9TyN9OaaZnevAfwaLJNeqcts6",
      "include_colab_link": true
    },
    "kernelspec": {
      "name": "python3",
      "display_name": "Python 3"
    },
    "language_info": {
      "name": "python"
    }
  },
  "cells": [
    {
      "cell_type": "markdown",
      "metadata": {
        "id": "view-in-github",
        "colab_type": "text"
      },
      "source": [
        "<a href=\"https://colab.research.google.com/github/byein/NLP_Analysis_of_Lyrics_Trend_and_WordCloud/blob/develop/NLP_Analysis_of_Lyrics_Trend_and_WordCloud.ipynb\" target=\"_parent\"><img src=\"https://colab.research.google.com/assets/colab-badge.svg\" alt=\"Open In Colab\"/></a>"
      ]
    },
    {
      "cell_type": "markdown",
      "source": [
        "#Preprocessing Data\n",
        "#데이터 전처리"
      ],
      "metadata": {
        "id": "VJl4j14dU1Ig"
      }
    },
    {
      "cell_type": "code",
      "source": [
        "!wget https://raw.githubusercontent.com/walkerkq/musiclyrics/master/billboard_lyrics_1964-2015.csv"
      ],
      "metadata": {
        "colab": {
          "base_uri": "https://localhost:8080/"
        },
        "id": "4vfrRJurxb1p",
        "outputId": "55e8de55-41b9-4dd0-995e-c044eddbb0e6"
      },
      "execution_count": 2,
      "outputs": [
        {
          "output_type": "stream",
          "name": "stdout",
          "text": [
            "--2022-05-16 09:22:19--  https://raw.githubusercontent.com/walkerkq/musiclyrics/master/billboard_lyrics_1964-2015.csv\n",
            "Resolving raw.githubusercontent.com (raw.githubusercontent.com)... 185.199.110.133, 185.199.111.133, 185.199.108.133, ...\n",
            "Connecting to raw.githubusercontent.com (raw.githubusercontent.com)|185.199.110.133|:443... connected.\n",
            "HTTP request sent, awaiting response... 200 OK\n",
            "Length: 7953541 (7.6M) [text/plain]\n",
            "Saving to: ‘billboard_lyrics_1964-2015.csv.1’\n",
            "\n",
            "billboard_lyrics_19 100%[===================>]   7.58M  --.-KB/s    in 0.06s   \n",
            "\n",
            "2022-05-16 09:22:20 (117 MB/s) - ‘billboard_lyrics_1964-2015.csv.1’ saved [7953541/7953541]\n",
            "\n"
          ]
        }
      ]
    },
    {
      "cell_type": "code",
      "source": [
        "import numpy as np\n",
        "import pandas as pd\n",
        "\n",
        "# remove nan value, reset index consider the drop is true. \n",
        "# Ex) there is an array {0,nan,nan,3}, after drop the array becomes {0:0,3:3}.\n",
        "#     after reset_index(drop=True), the array's index becomes {0:0,1:3}  \n",
        "data = pd.read_csv(\"billboard_lyrics_1964-2015.csv\", encoding=\"latin1\").dropna().reset_index(drop=True)\n",
        "\n",
        "len(data)  \n"
      ],
      "metadata": {
        "colab": {
          "base_uri": "https://localhost:8080/"
        },
        "id": "0QJc3_DiyFtw",
        "outputId": "7442a0f2-18b3-4034-b023-ef6fc38e7a8f"
      },
      "execution_count": 37,
      "outputs": [
        {
          "output_type": "execute_result",
          "data": {
            "text/plain": [
              "4913"
            ]
          },
          "metadata": {},
          "execution_count": 37
        }
      ]
    },
    {
      "cell_type": "markdown",
      "source": [
        "### Classify Data as the times\n",
        "\n",
        "### 시대별 데이터 분류"
      ],
      "metadata": {
        "id": "D929EWVETfPj"
      }
    },
    {
      "cell_type": "code",
      "source": [
        "data_60s = \"\"\n",
        "data_70s = \"\"\n",
        "data_80s = \"\"\n",
        "data_90s = \"\"\n",
        "data_00s = \"\"\n",
        "data_10s = \"\"\n",
        "cnt_60s = 0;\n",
        "cnt_70s = 0;\n",
        "cnt_80s = 0;\n",
        "cnt_90s = 0;\n",
        "cnt_00s = 0;\n",
        "cnt_10s = 0;\n",
        "for i, d in enumerate(data['Year']):\n",
        "  if ((d >= 1960) & (d < 1970)):\n",
        "    if (pd.isnull(data['Lyrics'][i])):\n",
        "      break\n",
        "    data_60s += data['Lyrics'][i] + ' '  \n",
        "    cnt_60s+=1\n",
        "  elif ((d >= 1970) &(d < 1980)):\n",
        "    if (pd.isnull(data['Lyrics'][i])):\n",
        "      break\n",
        "    data_70s += data['Lyrics'][i] + ' '  \n",
        "    cnt_70s+=1\n",
        "  elif ((d >= 1980) &(d < 1990)):\n",
        "    if (pd.isnull(data['Lyrics'][i])):\n",
        "      break\n",
        "    data_80s += data['Lyrics'][i] + ' ' \n",
        "    cnt_80s+=1\n",
        "  elif ((d >= 1990) &(d < 2000)):\n",
        "    if (pd.isnull(data['Lyrics'][i])):\n",
        "      break\n",
        "    data_90s += data['Lyrics'][i] + ' '\n",
        "    cnt_90s+=1\n",
        "  elif ((d >= 2000) &(d < 2010)):\n",
        "    if (pd.isnull(data['Lyrics'][i])):\n",
        "      break\n",
        "    data_00s += data['Lyrics'][i] + ' ' \n",
        "    cnt_00s+=1\n",
        "  else:\n",
        "    if (pd.isnull(data['Lyrics'][i])):\n",
        "      break\n",
        "    data_10s += data['Lyrics'][i] + ' ' \n",
        "    cnt_10s+=1\n"
      ],
      "metadata": {
        "id": "lNK5Vqol18ON"
      },
      "execution_count": 44,
      "outputs": []
    },
    {
      "cell_type": "code",
      "source": [
        "print(cnt_60s)\n",
        "print(data_60s[:1000])\n",
        "print(cnt_70s)\n",
        "print(data_70s[:1000])\n",
        "print(cnt_80s)\n",
        "print(data_80s[:1000])\n",
        "print(cnt_90s)\n",
        "print(data_90s[:1000])\n",
        "print(cnt_00s)\n",
        "print(data_00s[:1000])\n",
        "print(cnt_10s)\n",
        "print(data_10s[:1000])"
      ],
      "metadata": {
        "colab": {
          "base_uri": "https://localhost:8080/"
        },
        "id": "MtHF8fmz18iu",
        "outputId": "a29bf162-cdd6-4e1e-cd42-2a8a09b381fc"
      },
      "execution_count": 45,
      "outputs": [
        {
          "output_type": "stream",
          "name": "stdout",
          "text": [
            "474\n",
            "sam the sham miscellaneous wooly bully wooly bully sam the sham  the pharaohs  domingo samudio uno dos one two tres quatro matty told hatty about a thing she saw had two big horns and a wooly jaw wooly bully wooly bully wooly bully wooly bully wooly bully hatty told matty lets dont take no chance lets not belseven come and learn to dance wooly bully wooly bully wooly bully wooly bully wooly bully matty told hatty thats the thing to do get you someone really to pull the wool with you wooly bully wooly bully wooly bully wooly bully wooly bully lseven  the letter l and the number 7 when typed they form a rough square l7 so the lyrics mean lets not be square  sugar pie honey bunch you know that i love you i cant help myself i love you and nobody elsein and out my life you come and you go leaving just your picture behind and i kissed it a thousand timeswhen you snap your finger or wink your eye i come arunning to you im tied to your apron strings and theres nothing that i can docant help my\n",
            "939\n",
            "when youre weary feeling small when tears are in your eyes i will dry them all im on your side oh when times get rough and friends just cant be found like a bridge over troubled water i will lay me down like a bridge over troubled water i will lay me down when youre down and out when youre on the street when evening falls so hard i will comfort you ill take your part oh when darkness comes and pain is all around like a bridge over troubled water i will lay me down like a bridge over troubled water i will lay me down sail on silver girl sail on by your time has come to shine all your dreams are on their way see how they shine oh if you need a friend im sailing right behind like a bridge over troubled water i will ease your mind like a bridge over troubled water i will ease your mind  close to youwhy do birds suddenly appear every time you are near just like me they long to be close to youwhy do stars fall down from the sky every time you walk by just like me they long to be close to you\n",
            "975\n",
            " color me your color baby color me your car color me your color darling i know who you are come up off your color chart i know where youre comin fromcall me call me on the line call me call me any anytime call me call me my love you can call me any day or night call mecover me with kisses baby cover me with love roll me in designer sheets ill never get enough emotions come i dont know why cover up loves alibicall me call me on the line call me call me any anytime call me call me oh love when youre ready we can share the wine call meoh oh oh oh oh he speaks the languages of love oh oh oh oh oh amore chiamami chiamami oh oh oh oh oh appellemoi mon cherie appellemoi anytime anyplace anywhere any way anytime anyplace anywhere any dayaycall me call me my love call me call me any anytime call me call me for a ride call me call me for some overtime call me call me my love call me call me in a sweet design call me call me call me for your lovers lovers alibi call me call me on the line call me\n",
            "958\n",
            " i know theres pain why do lock yourself up in these chains no one can change your life except for you dont ever let anyone step all over you just open your heart and your mind is it really fair to feel this way insidesome day somebodys gonna make you want to turn around and say goodbye until then baby are you going to let them hold you down and make you cry dont you know dont you know things can change thingsll go your way if you hold on for one more day can you hold on for one more day thingsll go your way hold on for one more dayyou could sustain or are you comfortable with the pain youve got no one to blame for your unhappiness you got yourself into your own mess lettin your worries pass you by dont you think its worth your time to change your mindsome day somebodys gonna make you want to turn around and say goodbye until then baby are you going to let them hold you down and make you cry dont you know dont you know things can change thingsll go your way if you hold on for one more \n",
            "975\n",
            " i can feel the magic floating in the air being with you gets me that way i watch the sunlight dance across your face and ive never been this swept awayall my thoughts just seem to settle on the breeze when im lying wrapped up in your arms the whole world just fades away the only thing i hear is the beating of your heartcause i can feel you breathe its washing over me and suddenly im melting into you theres nothing left to prove baby all we need is just to be caught up in the touch slow and steady rush baby isnt that the way that loves suppose to be i can feel you breathe just breathein a way i know my heart is waking up as all the walls come tumbling down closer than ive ever felt before and i know and you know theres no need for words right nowi can feel you breathe washing over me and suddenly im melting into you theres nothing left to prove baby all we need is just to be caught up in the touch slow and steady rush baby isnt that the way that loves suppose to be i can feel you breat\n",
            "592\n",
            " wake up in the morning feeling like p diddy hey what up girl grab my glasses im out the door im gonna hit this city lets go before i leave brush my teeth with a bottle of jack cause when i leave for the night i aint coming backim talking pedicure on our toes toes trying on all our clothes clothes boys blowing up our phones phones droptopping playing our favorite cds rollin up to the parties trying to get a little bit tipsydont stop make it pop dj blow my speakers up tonight ima fight till we see the sunlight ticktock on the clock but the party dont stop nodont stop make it pop dj blow my speakers up tonight ima fight til we see the sunlight ticktock on the clock but the party dont stop noaint got a care in world but got plenty of beer aint got no money in my pocket but im already here and now the dudes are lining up cause they hear we got swagger but we kick em to the curb unless they look like mick jaggerim talking about everybody getting crunk crunk boys tried to touch my junk junk \n"
          ]
        }
      ]
    },
    {
      "cell_type": "code",
      "source": [
        ""
      ],
      "metadata": {
        "id": "Tp4fymLcSndB"
      },
      "execution_count": null,
      "outputs": []
    }
  ]
}